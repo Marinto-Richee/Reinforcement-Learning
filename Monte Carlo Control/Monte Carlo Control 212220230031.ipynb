{
  "cells": [
    {
      "cell_type": "code",
      "execution_count": 1,
      "metadata": {
        "colab": {
          "base_uri": "https://localhost:8080/"
        },
        "id": "cTWjcHm9eYrO",
        "outputId": "73dea2bd-24f4-4e7b-d247-9ab463bdca66"
      },
      "outputs": [
        {
          "output_type": "stream",
          "name": "stdout",
          "text": [
            "Collecting gym-walk\n",
            "  Cloning https://github.com/mimoralea/gym-walk to /tmp/pip-install-8_nkkbt1/gym-walk_acf5c987769e481fa4b37b65fd28e650\n",
            "  Running command git clone --filter=blob:none --quiet https://github.com/mimoralea/gym-walk /tmp/pip-install-8_nkkbt1/gym-walk_acf5c987769e481fa4b37b65fd28e650\n",
            "  Resolved https://github.com/mimoralea/gym-walk to commit 5999016267d6de2f5a63307fb00dfd63de319ac1\n",
            "  Preparing metadata (setup.py) ... \u001b[?25l\u001b[?25hdone\n",
            "Requirement already satisfied: gym in /usr/local/lib/python3.10/dist-packages (from gym-walk) (0.25.2)\n",
            "Requirement already satisfied: numpy>=1.18.0 in /usr/local/lib/python3.10/dist-packages (from gym->gym-walk) (1.23.5)\n",
            "Requirement already satisfied: cloudpickle>=1.2.0 in /usr/local/lib/python3.10/dist-packages (from gym->gym-walk) (2.2.1)\n",
            "Requirement already satisfied: gym-notices>=0.0.4 in /usr/local/lib/python3.10/dist-packages (from gym->gym-walk) (0.0.8)\n",
            "Building wheels for collected packages: gym-walk\n",
            "  Building wheel for gym-walk (setup.py) ... \u001b[?25l\u001b[?25hdone\n",
            "  Created wheel for gym-walk: filename=gym_walk-0.0.2-py3-none-any.whl size=4054 sha256=2d68a10ec4da94cab2c31167e272992985069b32b2f00a5a198bf64dd87bd8ef\n",
            "  Stored in directory: /tmp/pip-ephem-wheel-cache-bcgfauy6/wheels/24/fe/c4/0cbc7511d29265bad7e28a09311db3f87f0cafba74af54d530\n",
            "Successfully built gym-walk\n",
            "Installing collected packages: gym-walk\n",
            "Successfully installed gym-walk-0.0.2\n"
          ]
        }
      ],
      "source": [
        "pip install git+https://github.com/mimoralea/gym-walk#egg=gym-walk"
      ]
    },
    {
      "cell_type": "code",
      "execution_count": 2,
      "metadata": {
        "id": "78_qXQtTeC87"
      },
      "outputs": [],
      "source": [
        "import warnings ; warnings.filterwarnings('ignore')\n",
        "\n",
        "import gym, gym_walk\n",
        "import numpy as np\n",
        "\n",
        "import random\n",
        "import warnings\n",
        "\n",
        "warnings.filterwarnings('ignore', category=DeprecationWarning)\n",
        "np.set_printoptions(suppress=True)\n",
        "random.seed(123); np.random.seed(123)"
      ]
    },
    {
      "cell_type": "code",
      "execution_count": 3,
      "metadata": {
        "id": "Topbrx_BgxX4"
      },
      "outputs": [],
      "source": [
        "def print_policy(pi, P, action_symbols=('<', 'v', '>', '^'), n_cols=4, title='Policy:'):\n",
        "    print(title)\n",
        "    arrs = {k: v for k, v in enumerate(action_symbols)}\n",
        "    for s in range(len(P)):\n",
        "        a = pi[s]  # Access the value associated with state s\n",
        "        print(\"| \", end=\"\")\n",
        "        if np.all([done for action in P[s].values() for _, _, _, done in action]):\n",
        "            print(\"\".rjust(9), end=\" \")\n",
        "        else:\n",
        "            print(str(s).zfill(2), arrs[a].rjust(6), end=\" \")\n",
        "        if (s + 1) % n_cols == 0:\n",
        "            print(\"|\")"
      ]
    },
    {
      "cell_type": "code",
      "execution_count": 4,
      "metadata": {
        "id": "x2pNtMsagzbG"
      },
      "outputs": [],
      "source": [
        "def print_state_value_function(V, P, n_cols=4, prec=3, title='State-value function:'):\n",
        "    print(title)\n",
        "    for s in range(len(P)):\n",
        "        v = V[s]\n",
        "        print(\"| \", end=\"\")\n",
        "        if np.all([done for action in P[s].values() for _, _, _, done in action]):\n",
        "            if title == 'State-value function:':\n",
        "                print(\"\".rjust(9), end=\" \")\n",
        "            else:\n",
        "                print(\"\".rjust(24), end=\" \")\n",
        "        else:\n",
        "            print(str(s).zfill(2), '{}'.format(np.round(v, prec)).rjust(6), end=\" \")\n",
        "        if (s + 1) % n_cols == 0: print(\"|\")"
      ]
    },
    {
      "cell_type": "code",
      "execution_count": 5,
      "metadata": {
        "id": "bsH4lJu_em1V"
      },
      "outputs": [],
      "source": [
        "env = gym.make('FrozenLake-v1')\n",
        "P = env.env.P\n",
        "init_state = env.reset()\n",
        "#goal_state = 6\n",
        "#LEFT, RIGHT = range(2)"
      ]
    },
    {
      "cell_type": "markdown",
      "metadata": {
        "id": "VMRhO7SEiccW"
      },
      "source": [
        "Exponentially decaying schedule\n"
      ]
    },
    {
      "cell_type": "code",
      "execution_count": 6,
      "metadata": {
        "id": "P54uiWU4fPel"
      },
      "outputs": [],
      "source": [
        "def decay_schedule(init_val,min_val,decay_ratio,max_steps,log_start=2,log_base=10):\n",
        "    decay_steps = int(max_steps * decay_ratio)\n",
        "    rem_steps = max_steps - decay_steps\n",
        "\n",
        "    values = np.logspace(log_start,0,decay_steps,base=log_base,endpoint=True)[::-1]\n",
        "\n",
        "    values = (values - values.min()) / (values.max() - values.min())\n",
        "\n",
        "    values = (init_val - min_val) * values + min_val\n",
        "\n",
        "    values = np.pad(values,(0,rem_steps),'edge')\n",
        "\n",
        "    return values"
      ]
    },
    {
      "cell_type": "markdown",
      "metadata": {
        "id": "9vXx70YbinT9"
      },
      "source": [
        "Exploratory Policy Trajectories\n"
      ]
    },
    {
      "cell_type": "code",
      "execution_count": 7,
      "metadata": {
        "id": "HpPgafD7iXSH"
      },
      "outputs": [],
      "source": [
        "from itertools import count\n",
        "import numpy as np\n",
        "\n",
        "def gen_traj(select_action,Q,epsilon,env,max_steps=200):\n",
        "    done,traj = False,[]\n",
        "\n",
        "    while not done:\n",
        "        state = env.reset()\n",
        "\n",
        "        for t in count():\n",
        "            action = select_action(state,Q,epsilon)\n",
        "            next,reward,done,_ = env.step(action)\n",
        "            exp = (state,action,reward,next,done)\n",
        "            traj.append(exp)\n",
        "\n",
        "            if done:\n",
        "                break\n",
        "            if t>=max_steps-1:\n",
        "                traj = []\n",
        "                break\n",
        "\n",
        "            state = next\n",
        "        return np.array(traj, np.object)"
      ]
    },
    {
      "cell_type": "markdown",
      "metadata": {
        "id": "5N1bFAXGuVIg"
      },
      "source": [
        "Monte Carlo control\n"
      ]
    },
    {
      "cell_type": "code",
      "execution_count": 9,
      "metadata": {
        "id": "wy0rgMBxuaOP"
      },
      "outputs": [],
      "source": [
        "import numpy as np\n",
        "from tqdm import tqdm\n",
        "\n",
        "def mc_control(env, gamma=1.0, init_alpha=0.5, min_alpha=0.01, alpha_decay_ratio=0.5,\n",
        "               init_epsilon=1.0, min_epsilon=0.1, epsilon_decay_ratio=0.9,\n",
        "               n_episodes=3000, max_steps=200, first_visit=True):\n",
        "\n",
        "    nS, nA = env.observation_space.n, env.action_space.n\n",
        "\n",
        "    disc = np.logspace(0, max_steps, num=max_steps, base=gamma, endpoint=False)\n",
        "\n",
        "    def decay_schedule(init_value, min_value, decay_ratio, n):\n",
        "        return np.maximum(min_value, init_value * (decay_ratio ** np.arange(n)))\n",
        "\n",
        "    alphas = decay_schedule(init_alpha, min_alpha, alpha_decay_ratio, n_episodes)\n",
        "    epsilons = decay_schedule(init_epsilon, min_epsilon, epsilon_decay_ratio, n_episodes)\n",
        "\n",
        "    Q = np.zeros((nS, nA), dtype=np.float64)\n",
        "    Q_track = np.zeros((n_episodes, nS, nA), dtype=np.float64)\n",
        "\n",
        "    def select_action(state, Q, epsilon):\n",
        "        return np.argmax(Q[state]) if np.random.random() > epsilon else np.random.randint(nA)\n",
        "\n",
        "    for e in tqdm(range(n_episodes), leave=False):\n",
        "        traj = gen_traj(select_action, Q, epsilons[e], env, max_steps)\n",
        "        visited = np.zeros((nS, nA), dtype=np.bool)\n",
        "\n",
        "        for t, (state, action, reward, _, _) in enumerate(traj):\n",
        "            if visited[state][action] and first_visit:\n",
        "                continue\n",
        "            visited[state][action] = True\n",
        "\n",
        "            n_steps = len(traj[t:])\n",
        "            G = np.sum(disc[:n_steps] * traj[t:, 2])\n",
        "            Q[state][action] = Q[state][action] + alphas[e] * (G - Q[state][action])\n",
        "\n",
        "        Q_track[e] = Q\n",
        "\n",
        "    V = np.max(Q, axis=1)\n",
        "    pi = {s: np.argmax(Q[s]) for s in range(nS)}\n",
        "\n",
        "    return Q, V, pi"
      ]
    },
    {
      "cell_type": "code",
      "execution_count": 10,
      "metadata": {
        "colab": {
          "base_uri": "https://localhost:8080/"
        },
        "id": "66ZNLLJjGile",
        "outputId": "591128a6-0d61-47f7-bd41-bf3f1f450822"
      },
      "outputs": [
        {
          "output_type": "stream",
          "name": "stderr",
          "text": []
        }
      ],
      "source": [
        "optimal_Q, optimal_V, optimal_pi = mc_control (env,n_episodes=150000)"
      ]
    },
    {
      "cell_type": "code",
      "execution_count": 11,
      "metadata": {
        "colab": {
          "base_uri": "https://localhost:8080/"
        },
        "id": "NSXYbkx9H3X0",
        "outputId": "647534f6-484d-4750-9639-aa98f7d2434f"
      },
      "outputs": [
        {
          "output_type": "stream",
          "name": "stdout",
          "text": [
            "Action-value function:\n",
            "| 00 [0.45 0.34 0.37 0.39] | 01 [0.23 0.21 0.19 0.3 ] | 02 [0.29 0.24 0.23 0.21] | 03 [0.15 0.12 0.14 0.22] |\n",
            "| 04 [0.46 0.24 0.26 0.24] |                          | 06 [0.32 0.15 0.17 0.13] |                          |\n",
            "| 08 [0.3  0.33 0.31 0.49] | 09 [0.33 0.59 0.37 0.32] | 10 [0.58 0.43 0.32 0.32] |                          |\n",
            "|                          | 13 [0.32 0.49 0.72 0.43] | 14 [0.67 0.85 0.76 0.76] |                          |\n",
            "State-value function:\n",
            "| 00   0.45 | 01    0.3 | 02   0.29 | 03   0.22 |\n",
            "| 04   0.46 |           | 06   0.32 |           |\n",
            "| 08   0.49 | 09   0.59 | 10   0.58 |           |\n",
            "|           | 13   0.72 | 14   0.85 |           |\n",
            "Policy:\n",
            "| 00      < | 01      ^ | 02      < | 03      ^ |\n",
            "| 04      < |           | 06      < |           |\n",
            "| 08      ^ | 09      v | 10      < |           |\n",
            "|           | 13      > | 14      v |           |\n"
          ]
        }
      ],
      "source": [
        "print_state_value_function(optimal_Q, P, n_cols=4, prec=2, title='Action-value function:')\n",
        "print_state_value_function(optimal_V, P, n_cols=4, prec=2, title='State-value function:')\n",
        "print_policy(optimal_pi, P)"
      ]
    },
    {
      "cell_type": "code",
      "execution_count": 12,
      "metadata": {
        "id": "xq3IDpcMGile"
      },
      "outputs": [],
      "source": [
        "def probability_success(env, pi, goal_state, n_episodes=100, max_steps=200):\n",
        "    random.seed(123)\n",
        "    np.random.seed(123)\n",
        "    env.seed(123)\n",
        "    results = []\n",
        "\n",
        "    for _ in range(n_episodes):\n",
        "        state, done, steps = env.reset(), False, 0\n",
        "        while not done and steps < max_steps:\n",
        "            action = pi[state]  # Access the action for the current state from the policy dictionary\n",
        "            state, _, done, _ = env.step(action)\n",
        "            steps += 1\n",
        "        results.append(state == goal_state)\n",
        "\n",
        "    return np.sum(results) / len(results)"
      ]
    },
    {
      "cell_type": "code",
      "execution_count": 13,
      "metadata": {
        "id": "24XObFZUGile"
      },
      "outputs": [],
      "source": [
        "def mean_return(env, pi, n_episodes=100, max_steps=200):\n",
        "    random.seed(123)\n",
        "    np.random.seed(123)\n",
        "    env.seed(123)\n",
        "    results = []\n",
        "\n",
        "    for _ in range(n_episodes):\n",
        "        state, done, steps = env.reset(), False, 0\n",
        "        results.append(0.0)\n",
        "        while not done and steps < max_steps:\n",
        "            action = pi[state]  # Access the action for the current state from the policy dictionary\n",
        "            state, reward, done, _ = env.step(action)\n",
        "            results[-1] += reward\n",
        "            steps += 1\n",
        "    return np.mean(results)"
      ]
    },
    {
      "cell_type": "code",
      "execution_count": 14,
      "metadata": {
        "id": "4ZM0F6H3Gile"
      },
      "outputs": [],
      "source": [
        "def results(env,optimal_pi,optimal_V,P):\n",
        "    print('Reaches goal {:.2f}%. Obtains an average undiscounted return of {:.4f}.'.format(\n",
        "    probability_success(env, optimal_pi, goal_state=goal_state)*100,\n",
        "    mean_return(env, optimal_pi)))"
      ]
    },
    {
      "cell_type": "code",
      "execution_count": 15,
      "metadata": {
        "colab": {
          "base_uri": "https://localhost:8080/"
        },
        "id": "PgLJQVukGile",
        "outputId": "ab7e7e52-c865-4116-eaa5-88921d0c3f19"
      },
      "outputs": [
        {
          "output_type": "stream",
          "name": "stdout",
          "text": [
            "Reaches goal 66.00%. Obtains an average undiscounted return of 0.6600.\n"
          ]
        }
      ],
      "source": [
        "goal_state = 15\n",
        "results(env,optimal_pi,optimal_V,P)"
      ]
    },
    {
      "cell_type": "code",
      "source": [],
      "metadata": {
        "id": "8175m-i3_pVm"
      },
      "execution_count": null,
      "outputs": []
    }
  ],
  "metadata": {
    "accelerator": "GPU",
    "colab": {
      "collapsed_sections": [
        "yErcucIPGeDK"
      ],
      "gpuType": "T4",
      "provenance": []
    },
    "kernelspec": {
      "display_name": "Python 3",
      "name": "python3"
    },
    "language_info": {
      "codemirror_mode": {
        "name": "ipython",
        "version": 3
      },
      "file_extension": ".py",
      "mimetype": "text/x-python",
      "name": "python",
      "nbconvert_exporter": "python",
      "pygments_lexer": "ipython3",
      "version": "3.10.13"
    }
  },
  "nbformat": 4,
  "nbformat_minor": 0
}