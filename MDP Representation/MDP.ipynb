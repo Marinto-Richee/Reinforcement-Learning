{
 "cells": [
  {
   "cell_type": "code",
   "execution_count": 4,
   "metadata": {},
   "outputs": [
    {
     "data": {
      "text/plain": [
       "{'LowWind-LowProduction': {'AdjustBladePitch': [(0.8,\n",
       "    'LowWind-HighProduction',\n",
       "    5.0,\n",
       "    False),\n",
       "   (0.2, 'LowWind-LowProduction', 0.0, False)],\n",
       "  'ChangeRotorSpeed': [(0.7, 'LowWind-ModerateProduction', 2.0, False),\n",
       "   (0.3, 'LowWind-LowProduction', 1.0, False)]},\n",
       " 'LowWind-ModerateProduction': {'AdjustBladePitch': [(0.6,\n",
       "    'LowWind-HighProduction',\n",
       "    3.0,\n",
       "    False),\n",
       "   (0.4, 'LowWind-ModerateProduction', 0.0, False)],\n",
       "  'ChangeRotorSpeed': [(0.5, 'LowWind-ModerateProduction', 1.0, False),\n",
       "   (0.5, 'LowWind-LowProduction', 0.0, False)]},\n",
       " 'ModerateWind-HighProduction': {'AdjustBladePitch': [(0.9,\n",
       "    'ModerateWind-HighProduction',\n",
       "    10.0,\n",
       "    False),\n",
       "   (0.1, 'ModerateWind-ModerateProduction', 5.0, False)],\n",
       "  'ChangeRotorSpeed': [(0.8, 'ModerateWind-ModerateProduction', 2.0, False),\n",
       "   (0.2, 'ModerateWind-HighProduction', 1.0, False)]},\n",
       " 'HighWind-ModerateProduction': {'AdjustBladePitch': [(0.7,\n",
       "    'HighWind-HighProduction',\n",
       "    5.0,\n",
       "    False),\n",
       "   (0.3, 'HighWind-ModerateProduction', 1.0, False)],\n",
       "  'ChangeRotorSpeed': [(0.6, 'HighWind-HighProduction', 3.0, False),\n",
       "   (0.4, 'HighWind-ModerateProduction', 0.0, False)]},\n",
       " 'HighWind-HighProduction': {'AdjustBladePitch': [(0.8,\n",
       "    'HighWind-HighProduction',\n",
       "    10.0,\n",
       "    False),\n",
       "   (0.2, 'HighWind-ModerateProduction', 5.0, False)],\n",
       "  'ChangeRotorSpeed': [(1.0, 'HighWind-ModerateProduction', 0.0, True)]}}"
      ]
     },
     "execution_count": 4,
     "metadata": {},
     "output_type": "execute_result"
    }
   ],
   "source": [
    "windmill_mdp = {\n",
    "    \"LowWind-LowProduction\": {\n",
    "        \"AdjustBladePitch\": [(0.8, \"LowWind-HighProduction\", 5.0, False), (0.2, \"LowWind-LowProduction\", 0.0, False)],\n",
    "        \"ChangeRotorSpeed\": [(0.7, \"LowWind-ModerateProduction\", 2.0, False), (0.3, \"LowWind-LowProduction\", 1.0, False)],\n",
    "    },\n",
    "    \"LowWind-ModerateProduction\": {\n",
    "        \"AdjustBladePitch\": [(0.6, \"LowWind-HighProduction\", 3.0, False), (0.4, \"LowWind-ModerateProduction\", 0.0, False)],\n",
    "        \"ChangeRotorSpeed\": [(0.5, \"LowWind-ModerateProduction\", 1.0, False), (0.5, \"LowWind-LowProduction\", 0.0, False)],\n",
    "    },\n",
    "    \"ModerateWind-HighProduction\": {\n",
    "        \"AdjustBladePitch\": [(0.9, \"ModerateWind-HighProduction\", 10.0, False), (0.1, \"ModerateWind-ModerateProduction\", 5.0, False)],\n",
    "        \"ChangeRotorSpeed\": [(0.8, \"ModerateWind-ModerateProduction\", 2.0, False), (0.2, \"ModerateWind-HighProduction\", 1.0, False)],\n",
    "    },\n",
    "    \"HighWind-ModerateProduction\": {\n",
    "        \"AdjustBladePitch\": [(0.7, \"HighWind-HighProduction\", 5.0, False), (0.3, \"HighWind-ModerateProduction\", 1.0, False)],\n",
    "        \"ChangeRotorSpeed\": [(0.6, \"HighWind-HighProduction\", 3.0, False), (0.4, \"HighWind-ModerateProduction\", 0.0, False)],\n",
    "    },\n",
    "    \"HighWind-HighProduction\": {\n",
    "        \"AdjustBladePitch\": [(0.8, \"HighWind-HighProduction\", 10.0, False), (0.2, \"HighWind-ModerateProduction\", 5.0, False)],\n",
    "        \"ChangeRotorSpeed\": [(1.0, \"HighWind-ModerateProduction\", 0.0, True)],\n",
    "    }\n",
    "}\n",
    "windmill_mdp"
   ]
  },
  {
   "cell_type": "code",
   "execution_count": null,
   "metadata": {},
   "outputs": [],
   "source": []
  }
 ],
 "metadata": {
  "kernelspec": {
   "display_name": "Pytorch",
   "language": "python",
   "name": "python3"
  },
  "language_info": {
   "codemirror_mode": {
    "name": "ipython",
    "version": 3
   },
   "file_extension": ".py",
   "mimetype": "text/x-python",
   "name": "python",
   "nbconvert_exporter": "python",
   "pygments_lexer": "ipython3",
   "version": "3.8.16"
  },
  "orig_nbformat": 4
 },
 "nbformat": 4,
 "nbformat_minor": 2
}
